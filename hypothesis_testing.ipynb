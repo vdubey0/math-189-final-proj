{
 "cells": [
  {
   "cell_type": "code",
   "execution_count": 5,
   "id": "55989393",
   "metadata": {},
   "outputs": [
    {
     "name": "stdout",
     "output_type": "stream",
     "text": [
      "Packages Imported\n"
     ]
    }
   ],
   "source": [
    "import pandas as pd\n",
    "import matplotlib.pyplot as plt\n",
    "import numpy as np\n",
    "import seaborn as sns\n",
    "import statsmodels.api as sm\n",
    "import statsmodels.formula.api as smf\n",
    "import scipy.stats as stats\n",
    "from statsmodels.tsa.stattools import acf\n",
    "\n",
    "sns.set_theme()\n",
    "\n",
    "print(\"Packages Imported\")"
   ]
  },
  {
   "cell_type": "markdown",
   "id": "29ca02d7",
   "metadata": {},
   "source": [
    "### Load Data"
   ]
  },
  {
   "cell_type": "code",
   "execution_count": 6,
   "id": "2e058825",
   "metadata": {},
   "outputs": [],
   "source": [
    "# load data\n",
    "walmart = pd.read_csv('data/walmart.csv')\n",
    "amazon = pd.read_csv('data/amazon.csv')"
   ]
  },
  {
   "cell_type": "code",
   "execution_count": 7,
   "id": "84995ed2",
   "metadata": {},
   "outputs": [],
   "source": [
    "# select relevant columns\n",
    "walmart = walmart[['Product Name', 'Sale Price', 'Brand', 'Category']]\n",
    "amazon = amazon[['Product Name', 'Brand Name', 'Category', 'Selling Price']]"
   ]
  },
  {
   "cell_type": "markdown",
   "id": "7470e505",
   "metadata": {},
   "source": [
    "### Preprocessing"
   ]
  },
  {
   "cell_type": "code",
   "execution_count": 8,
   "id": "5568485d",
   "metadata": {},
   "outputs": [],
   "source": [
    "# extract primary category\n",
    "extract_primary_category = lambda s: s.split(' | ')[0] if not pd.isna(s) else np.nan\n",
    "walmart['Primary Category'] = walmart['Category'].apply(extract_primary_category)\n",
    "amazon['Primary Category'] = amazon['Category'].apply(extract_primary_category)\n",
    "\n",
    "walmart = walmart.drop(columns=['Category'])\n",
    "amazon = amazon.drop(columns=['Category'])"
   ]
  },
  {
   "cell_type": "code",
   "execution_count": 9,
   "id": "5befe4b7",
   "metadata": {},
   "outputs": [],
   "source": [
    "# extract price\n",
    "def extract_price(s):\n",
    "    if pd.isna(s):\n",
    "        return np.nan\n",
    "    \n",
    "    s = s.replace('$', '').replace(',', '')\n",
    "    if ' - ' in s:\n",
    "        s1, s2 = s.split(' - ')\n",
    "        s = (float(s1) + float(s2)) / 2\n",
    "        return s\n",
    "    try:\n",
    "        return float(s)\n",
    "    except:\n",
    "        return np.nan\n",
    "    \n",
    "amazon['Selling Price'] = amazon['Selling Price'].apply(extract_price)\n",
    "amazon = amazon.drop(amazon[amazon['Selling Price'].isna()].index)"
   ]
  },
  {
   "cell_type": "code",
   "execution_count": 10,
   "id": "ca863301",
   "metadata": {},
   "outputs": [],
   "source": [
    "# category selection\n",
    "walmart_categories_to_keep = ['Sports & Outdoors', 'Health', 'Household Essentials', 'Home', 'Baby', 'Toys', 'Home Improvement', 'Clothing', 'Jewelry']\n",
    "amazon_categories_to_keep = ['Toys & Games', 'Home & Kitchen', 'Clothing, Shoes & Jewelry', 'Sports & Outdoors', 'Baby Products', 'Health & Household']\n",
    "\n",
    "walmart = walmart[walmart['Primary Category'].isin(walmart_categories_to_keep)]\n",
    "amazon = amazon[amazon['Primary Category'].isin(amazon_categories_to_keep)]\n",
    "\n",
    "def universalize_walmart(category):\n",
    "    if category in ['Health', 'Household Essentials', 'Home', 'Home Improvement']:\n",
    "        return 'Health & Household'\n",
    "    if category in ['Clothing', \"Jewelry\"]:\n",
    "        return 'Clothing, Shoes & Jewelry'\n",
    "    return category\n",
    "\n",
    "def universalize_amazon(category):\n",
    "    if category in ['Home & Kitchen', 'Health & Household']:\n",
    "        return 'Health & Household'\n",
    "    if category == 'Baby Products':\n",
    "        return 'Baby'\n",
    "    if category == 'Toys & Games':\n",
    "        return 'Toys'\n",
    "    return category\n",
    "\n",
    "walmart['Universal Category'] = walmart['Primary Category'].apply(universalize_walmart)\n",
    "amazon['Universal Category'] = amazon['Primary Category'].apply(universalize_amazon)"
   ]
  },
  {
   "cell_type": "code",
   "execution_count": 11,
   "id": "21480152",
   "metadata": {},
   "outputs": [
    {
     "name": "stdout",
     "output_type": "stream",
     "text": [
      "\n",
      "Walmart - Health & Household < 66.04: Prop = 0.0962962962962963; Num = 624\n",
      "Amazon - Health & Household < 155.94: Prop = 0.1048158640226629, Num = 74\n",
      "\n",
      "Walmart - Sports & Outdoors < 161.54: Prop = 0.11378872984236274; Num = 1256\n",
      "Amazon - Sports & Outdoors < 224.39: Prop = 0.10144927536231885, Num = 49\n",
      "\n",
      "Walmart - Baby < 89.96: Prop = 0.13217138707334786; Num = 364\n",
      "Amazon - Baby < 63.26: Prop = 0.07109004739336493, Num = 15\n",
      "\n",
      "Walmart - Clothing, Shoes & Jewelry < 102.14: Prop = 0.0881057268722467; Num = 40\n",
      "Amazon - Clothing, Shoes & Jewelry < 62.55: Prop = 0.04952076677316294, Num = 31\n",
      "\n",
      "Walmart - Toys < 243.27: Prop = 0.135632183908046; Num = 118\n",
      "Amazon - Toys < 51.61: Prop = 0.10001536334306345, Num = 651\n"
     ]
    }
   ],
   "source": [
    "# outlier elimination\n",
    "walmart_outlier_lims = {}\n",
    "amazon_outlier_lims = {}\n",
    "\n",
    "iqr_mult = 1.5\n",
    "for cat in walmart['Universal Category'].unique():\n",
    "    walmart_pr = (walmart[walmart['Universal Category'] == cat]['Sale Price'])\n",
    "    amazon_pr = (amazon[amazon['Universal Category'] == cat]['Selling Price'])\n",
    "    \n",
    "    walmart_limit = walmart_pr.quantile(0.75) + (walmart_pr.quantile(0.75) - walmart_pr.quantile(0.25)) * iqr_mult\n",
    "    amazon_limit = amazon_pr.quantile(0.75) + (amazon_pr.quantile(0.75) - amazon_pr.quantile(0.25)) * iqr_mult\n",
    "    \n",
    "    walmart_outlier_lims[cat] = walmart_limit\n",
    "    amazon_outlier_lims[cat] = amazon_limit\n",
    "    \n",
    "    walmart_prop = walmart_pr > walmart_limit\n",
    "    amazon_prop = amazon_pr > amazon_limit\n",
    "    \n",
    "    print()\n",
    "    print(f'Walmart - {cat} < {walmart_limit.round(2)}: Prop = {walmart_prop.mean()}; Num = {walmart_prop.sum()}')\n",
    "    print(f'Amazon - {cat} < {amazon_limit.round(2)}: Prop = {amazon_prop.mean()}, Num = {amazon_prop.sum()}')\n",
    "    \n",
    "walmart_outlier_indices = []\n",
    "amazon_outlier_indices = []\n",
    "for cat in walmart['Universal Category'].unique():\n",
    "    walmart_cat = walmart[walmart['Universal Category'] == cat]\n",
    "    amazon_cat = amazon[amazon['Universal Category'] == cat]\n",
    "    \n",
    "    walmart_outlier_indices += list(walmart_cat[walmart_cat['Sale Price'] > walmart_outlier_lims[cat]].index)\n",
    "    amazon_outlier_indices += list(amazon_cat[amazon_cat['Selling Price'] > amazon_outlier_lims[cat]].index)\n",
    "    \n",
    "\n",
    "walmart = walmart.drop(walmart_outlier_indices)\n",
    "amazon = amazon.drop(amazon_outlier_indices)"
   ]
  },
  {
   "cell_type": "markdown",
   "id": "64580d7f",
   "metadata": {},
   "source": [
    "### Hypothesis tests"
   ]
  },
  {
   "cell_type": "markdown",
   "id": "7bc5a98f",
   "metadata": {},
   "source": [
    "We saw in our EDA that both Walmart and Amazon have their own respective item counts per universal category. Here we'll implement a Chi-Squared test of homogeneity evaluate whether or not the proportions of items in each category are identical across stores. We want to test if the observed frequencies of the categories are **consistent** with each other."
   ]
  },
  {
   "cell_type": "code",
   "execution_count": 12,
   "id": "7034ec41",
   "metadata": {},
   "outputs": [
    {
     "data": {
      "text/plain": [
       "Universal Category\n",
       "Sports & Outdoors            9782\n",
       "Health & Household           5856\n",
       "Baby                         2390\n",
       "Toys                          752\n",
       "Clothing, Shoes & Jewelry     414\n",
       "Name: count, dtype: int64"
      ]
     },
     "execution_count": 12,
     "metadata": {},
     "output_type": "execute_result"
    }
   ],
   "source": [
    "walmart['Universal Category'].value_counts()"
   ]
  },
  {
   "cell_type": "code",
   "execution_count": 13,
   "id": "916a47e4",
   "metadata": {},
   "outputs": [
    {
     "data": {
      "text/plain": [
       "Universal Category\n",
       "Toys                         5858\n",
       "Health & Household            632\n",
       "Clothing, Shoes & Jewelry     595\n",
       "Sports & Outdoors             434\n",
       "Baby                          196\n",
       "Name: count, dtype: int64"
      ]
     },
     "execution_count": 13,
     "metadata": {},
     "output_type": "execute_result"
    }
   ],
   "source": [
    "amazon['Universal Category'].value_counts()"
   ]
  },
  {
   "cell_type": "code",
   "execution_count": 15,
   "id": "3b1fa6ac",
   "metadata": {},
   "outputs": [
    {
     "name": "stdout",
     "output_type": "stream",
     "text": [
      "Chi-Squared Statistic: 16749.285450576455\n",
      "P-value: 0.0\n",
      "Degrees of Freedom: 4\n",
      "Expected Frequencies:\n",
      "[[1844.57556951  719.71258687 4627.84466164 7287.00078041 4714.86640158]\n",
      " [ 741.42443049  289.28741313 1860.15533836 2928.99921959 1895.13359842]]\n"
     ]
    }
   ],
   "source": [
    "combined_counts = pd.DataFrame({'walmart': walmart['Universal Category'].value_counts().sort_index(), \n",
    "                   'amazon': amazon['Universal Category'].value_counts().sort_index()})\n",
    "contingency_table = combined_counts.T.values\n",
    "\n",
    "chi2, p, dof, expected = stats.chi2_contingency(contingency_table)\n",
    "\n",
    "print(f\"Chi-Squared Statistic: {chi2}\")\n",
    "print(f\"P-value: {p}\")\n",
    "print(f\"Degrees of Freedom: {dof}\")\n",
    "print(\"Expected Frequencies:\")\n",
    "print(expected)"
   ]
  },
  {
   "cell_type": "markdown",
   "id": "2e0fc51f",
   "metadata": {},
   "source": [
    "We can conclude that the observed frequencies are, in fact, not consistent with each other across stores as shown by a p-value less than $\\alpha=0.01$"
   ]
  },
  {
   "cell_type": "code",
   "execution_count": 16,
   "id": "12bf8983",
   "metadata": {},
   "outputs": [],
   "source": [
    "# fit some sort of distribution to our price data?\n",
    "# poisson, chi-square, F, gamma?"
   ]
  },
  {
   "cell_type": "code",
   "execution_count": null,
   "id": "cb107f4c",
   "metadata": {},
   "outputs": [],
   "source": []
  }
 ],
 "metadata": {
  "kernelspec": {
   "display_name": "Python 3 (ipykernel)",
   "language": "python",
   "name": "python3"
  },
  "language_info": {
   "codemirror_mode": {
    "name": "ipython",
    "version": 3
   },
   "file_extension": ".py",
   "mimetype": "text/x-python",
   "name": "python",
   "nbconvert_exporter": "python",
   "pygments_lexer": "ipython3",
   "version": "3.10.1"
  }
 },
 "nbformat": 4,
 "nbformat_minor": 5
}
