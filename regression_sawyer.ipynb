{
 "cells": [
  {
   "cell_type": "code",
   "execution_count": 17,
   "id": "1613bde9",
   "metadata": {},
   "outputs": [],
   "source": [
    "import pandas as pd\n",
    "import matplotlib.pyplot as plt\n",
    "import numpy as np\n",
    "import seaborn as sns\n",
    "import statsmodels.api as sm\n",
    "import statsmodels.formula.api as smf\n",
    "import scipy.stats as stats\n",
    "from statsmodels.tsa.stattools import acf\n",
    "\n",
    "sns.set_theme()"
   ]
  },
  {
   "cell_type": "markdown",
   "id": "18207257",
   "metadata": {},
   "source": [
    "### Load Data"
   ]
  },
  {
   "cell_type": "code",
   "execution_count": 18,
   "id": "7a1946ee",
   "metadata": {},
   "outputs": [],
   "source": [
    "walmart = pd.read_csv('data/walmart.csv')\n",
    "amazon = pd.read_csv('data/amazon.csv')"
   ]
  },
  {
   "cell_type": "code",
   "execution_count": 19,
   "id": "e5c78878",
   "metadata": {},
   "outputs": [
    {
     "name": "stdout",
     "output_type": "stream",
     "text": [
      "Walmart Cols: ['Uniq Id', 'Crawl Timestamp', 'Product Url', 'Product Name', 'Description', 'List Price', 'Sale Price', 'Brand', 'Item Number', 'Gtin', 'Package Size', 'Category', 'Postal Code', 'Available']\n",
      "\n",
      "Amazon Cols: ['Uniq Id', 'Product Name', 'Brand Name', 'Asin', 'Category', 'Upc Ean Code', 'List Price', 'Selling Price', 'Quantity', 'Model Number', 'About Product', 'Product Specification', 'Technical Details', 'Shipping Weight', 'Product Dimensions', 'Image', 'Variants', 'Sku', 'Product Url', 'Stock', 'Product Details', 'Dimensions', 'Color', 'Ingredients', 'Direction To Use', 'Is Amazon Seller', 'Size Quantity Variant', 'Product Description']\n"
     ]
    }
   ],
   "source": [
    "print(f'Walmart Cols: {list(walmart.columns)}')\n",
    "print()\n",
    "print(f'Amazon Cols: {list(amazon.columns)}')"
   ]
  },
  {
   "cell_type": "code",
   "execution_count": 20,
   "id": "8f7c50b7",
   "metadata": {},
   "outputs": [],
   "source": [
    "# select relevant columns\n",
    "walmart = walmart[['Product Name', 'Sale Price', 'Brand', 'Category']]\n",
    "amazon = amazon[['Product Name', 'Brand Name', 'Category', 'Selling Price']]"
   ]
  },
  {
   "cell_type": "markdown",
   "id": "5c25b138",
   "metadata": {},
   "source": [
    "### Data Preprocessing"
   ]
  },
  {
   "cell_type": "code",
   "execution_count": 21,
   "id": "607bc9c6",
   "metadata": {},
   "outputs": [],
   "source": [
    "# extract primary category\n",
    "extract_primary_category = lambda s: s.split(' | ')[0] if not pd.isna(s) else np.nan\n",
    "walmart['Primary Category'] = walmart['Category'].apply(extract_primary_category)\n",
    "amazon['Primary Category'] = amazon['Category'].apply(extract_primary_category)\n",
    "\n",
    "walmart = walmart.drop(columns=['Category'])\n",
    "amazon = amazon.drop(columns=['Category'])"
   ]
  },
  {
   "cell_type": "code",
   "execution_count": 22,
   "id": "019e5b75",
   "metadata": {},
   "outputs": [],
   "source": [
    "# extract price\n",
    "def extract_price(s):\n",
    "    if pd.isna(s):\n",
    "        return np.nan\n",
    "    \n",
    "    s = s.replace('$', '').replace(',', '')\n",
    "    if ' - ' in s:\n",
    "        s1, s2 = s.split(' - ')\n",
    "        s = (float(s1) + float(s2)) / 2\n",
    "        return s\n",
    "    try:\n",
    "        return float(s)\n",
    "    except:\n",
    "        return np.nan\n",
    "    \n",
    "amazon['Selling Price'] = amazon['Selling Price'].apply(extract_price)\n",
    "amazon = amazon.drop(amazon[amazon['Selling Price'].isna()].index)"
   ]
  },
  {
   "cell_type": "code",
   "execution_count": 23,
   "id": "1aa7cfbf",
   "metadata": {},
   "outputs": [],
   "source": [
    "# category selection\n",
    "walmart_categories_to_keep = ['Sports & Outdoors', 'Health', 'Household Essentials', 'Home', 'Baby', 'Toys', 'Home Improvement', 'Clothing', 'Jewelry']\n",
    "amazon_categories_to_keep = ['Toys & Games', 'Home & Kitchen', 'Clothing, Shoes & Jewelry', 'Sports & Outdoors', 'Baby Products', 'Health & Household']\n",
    "\n",
    "walmart = walmart[walmart['Primary Category'].isin(walmart_categories_to_keep)]\n",
    "amazon = amazon[amazon['Primary Category'].isin(amazon_categories_to_keep)]\n",
    "\n",
    "def universalize_walmart(category):\n",
    "    if category in ['Health', 'Household Essentials', 'Home', 'Home Improvement']:\n",
    "        return 'Health & Household'\n",
    "    if category in ['Clothing', \"Jewelry\"]:\n",
    "        return 'Clothing, Shoes & Jewelry'\n",
    "    return category\n",
    "\n",
    "def universalize_amazon(category):\n",
    "    if category in ['Home & Kitchen', 'Health & Household']:\n",
    "        return 'Health & Household'\n",
    "    if category == 'Baby Products':\n",
    "        return 'Baby'\n",
    "    if category == 'Toys & Games':\n",
    "        return 'Toys'\n",
    "    return category\n",
    "\n",
    "walmart['Universal Category'] = walmart['Primary Category'].apply(universalize_walmart)\n",
    "amazon['Universal Category'] = amazon['Primary Category'].apply(universalize_amazon)"
   ]
  },
  {
   "cell_type": "code",
   "execution_count": 24,
   "id": "c14eadec",
   "metadata": {},
   "outputs": [
    {
     "name": "stdout",
     "output_type": "stream",
     "text": [
      "\n",
      "Walmart - Health & Household < 66.04: Prop = 0.0962962962962963; Num = 624\n",
      "Amazon - Health & Household < 155.94: Prop = 0.1048158640226629, Num = 74\n",
      "\n",
      "Walmart - Sports & Outdoors < 161.54: Prop = 0.11378872984236274; Num = 1256\n",
      "Amazon - Sports & Outdoors < 224.39: Prop = 0.10144927536231885, Num = 49\n",
      "\n",
      "Walmart - Baby < 89.96: Prop = 0.13217138707334786; Num = 364\n",
      "Amazon - Baby < 63.26: Prop = 0.07109004739336493, Num = 15\n",
      "\n",
      "Walmart - Clothing, Shoes & Jewelry < 102.14: Prop = 0.0881057268722467; Num = 40\n",
      "Amazon - Clothing, Shoes & Jewelry < 62.55: Prop = 0.04952076677316294, Num = 31\n",
      "\n",
      "Walmart - Toys < 243.27: Prop = 0.135632183908046; Num = 118\n",
      "Amazon - Toys < 51.61: Prop = 0.10001536334306345, Num = 651\n"
     ]
    }
   ],
   "source": [
    "# outlier elimination\n",
    "walmart_outlier_lims = {}\n",
    "amazon_outlier_lims = {}\n",
    "\n",
    "iqr_mult = 1.5\n",
    "for cat in walmart['Universal Category'].unique():\n",
    "    walmart_pr = (walmart[walmart['Universal Category'] == cat]['Sale Price'])\n",
    "    amazon_pr = (amazon[amazon['Universal Category'] == cat]['Selling Price'])\n",
    "    \n",
    "    walmart_limit = walmart_pr.quantile(0.75) + (walmart_pr.quantile(0.75) - walmart_pr.quantile(0.25)) * iqr_mult\n",
    "    amazon_limit = amazon_pr.quantile(0.75) + (amazon_pr.quantile(0.75) - amazon_pr.quantile(0.25)) * iqr_mult\n",
    "    \n",
    "    walmart_outlier_lims[cat] = walmart_limit\n",
    "    amazon_outlier_lims[cat] = amazon_limit\n",
    "    \n",
    "    walmart_prop = walmart_pr > walmart_limit\n",
    "    amazon_prop = amazon_pr > amazon_limit\n",
    "    \n",
    "    print()\n",
    "    print(f'Walmart - {cat} < {walmart_limit.round(2)}: Prop = {walmart_prop.mean()}; Num = {walmart_prop.sum()}')\n",
    "    print(f'Amazon - {cat} < {amazon_limit.round(2)}: Prop = {amazon_prop.mean()}, Num = {amazon_prop.sum()}')\n",
    "    \n",
    "walmart_outlier_indices = []\n",
    "amazon_outlier_indices = []\n",
    "for cat in walmart['Universal Category'].unique():\n",
    "    walmart_cat = walmart[walmart['Universal Category'] == cat]\n",
    "    amazon_cat = amazon[amazon['Universal Category'] == cat]\n",
    "    \n",
    "    walmart_outlier_indices += list(walmart_cat[walmart_cat['Sale Price'] > walmart_outlier_lims[cat]].index)\n",
    "    amazon_outlier_indices += list(amazon_cat[amazon_cat['Selling Price'] > amazon_outlier_lims[cat]].index)\n",
    "    \n",
    "\n",
    "walmart = walmart.drop(walmart_outlier_indices)\n",
    "amazon = amazon.drop(amazon_outlier_indices)"
   ]
  },
  {
   "cell_type": "code",
   "execution_count": 25,
   "id": "29ef5c78",
   "metadata": {},
   "outputs": [
    {
     "name": "stdout",
     "output_type": "stream",
     "text": [
      "(19194, 5)\n"
     ]
    },
    {
     "data": {
      "text/html": [
       "<div>\n",
       "<style scoped>\n",
       "    .dataframe tbody tr th:only-of-type {\n",
       "        vertical-align: middle;\n",
       "    }\n",
       "\n",
       "    .dataframe tbody tr th {\n",
       "        vertical-align: top;\n",
       "    }\n",
       "\n",
       "    .dataframe thead th {\n",
       "        text-align: right;\n",
       "    }\n",
       "</style>\n",
       "<table border=\"1\" class=\"dataframe\">\n",
       "  <thead>\n",
       "    <tr style=\"text-align: right;\">\n",
       "      <th></th>\n",
       "      <th>Product Name</th>\n",
       "      <th>Sale Price</th>\n",
       "      <th>Brand</th>\n",
       "      <th>Primary Category</th>\n",
       "      <th>Universal Category</th>\n",
       "    </tr>\n",
       "  </thead>\n",
       "  <tbody>\n",
       "    <tr>\n",
       "      <th>1</th>\n",
       "      <td>Equate Triamcinolone Acetonide Nasal Allergy S...</td>\n",
       "      <td>10.48</td>\n",
       "      <td>Equate</td>\n",
       "      <td>Health</td>\n",
       "      <td>Health &amp; Household</td>\n",
       "    </tr>\n",
       "    <tr>\n",
       "      <th>3</th>\n",
       "      <td>24\" Classic Adjustable Balloon Fender Set Chro...</td>\n",
       "      <td>38.59</td>\n",
       "      <td>lowrider</td>\n",
       "      <td>Sports &amp; Outdoors</td>\n",
       "      <td>Sports &amp; Outdoors</td>\n",
       "    </tr>\n",
       "    <tr>\n",
       "      <th>4</th>\n",
       "      <td>Elephant Shape Silicone Drinkware Portable Sil...</td>\n",
       "      <td>5.81</td>\n",
       "      <td>Anself</td>\n",
       "      <td>Baby</td>\n",
       "      <td>Baby</td>\n",
       "    </tr>\n",
       "    <tr>\n",
       "      <th>6</th>\n",
       "      <td>Toytainer Shoe Box Play-N-Store, Boy</td>\n",
       "      <td>11.52</td>\n",
       "      <td>Toytainer</td>\n",
       "      <td>Home</td>\n",
       "      <td>Health &amp; Household</td>\n",
       "    </tr>\n",
       "    <tr>\n",
       "      <th>7</th>\n",
       "      <td>Dometic D1112002 D Line 3 N 1 Bowl Cleaner and...</td>\n",
       "      <td>34.41</td>\n",
       "      <td>Dometic</td>\n",
       "      <td>Household Essentials</td>\n",
       "      <td>Health &amp; Household</td>\n",
       "    </tr>\n",
       "  </tbody>\n",
       "</table>\n",
       "</div>"
      ],
      "text/plain": [
       "                                        Product Name  Sale Price      Brand  \\\n",
       "1  Equate Triamcinolone Acetonide Nasal Allergy S...       10.48     Equate   \n",
       "3  24\" Classic Adjustable Balloon Fender Set Chro...       38.59   lowrider   \n",
       "4  Elephant Shape Silicone Drinkware Portable Sil...        5.81     Anself   \n",
       "6               Toytainer Shoe Box Play-N-Store, Boy       11.52  Toytainer   \n",
       "7  Dometic D1112002 D Line 3 N 1 Bowl Cleaner and...       34.41    Dometic   \n",
       "\n",
       "       Primary Category  Universal Category  \n",
       "1                Health  Health & Household  \n",
       "3     Sports & Outdoors   Sports & Outdoors  \n",
       "4                  Baby                Baby  \n",
       "6                  Home  Health & Household  \n",
       "7  Household Essentials  Health & Household  "
      ]
     },
     "execution_count": 25,
     "metadata": {},
     "output_type": "execute_result"
    }
   ],
   "source": [
    "print(walmart.shape)\n",
    "walmart.head()"
   ]
  },
  {
   "cell_type": "code",
   "execution_count": 26,
   "id": "c9154798",
   "metadata": {},
   "outputs": [
    {
     "name": "stdout",
     "output_type": "stream",
     "text": [
      "(7715, 5)\n"
     ]
    },
    {
     "data": {
      "text/html": [
       "<div>\n",
       "<style scoped>\n",
       "    .dataframe tbody tr th:only-of-type {\n",
       "        vertical-align: middle;\n",
       "    }\n",
       "\n",
       "    .dataframe tbody tr th {\n",
       "        vertical-align: top;\n",
       "    }\n",
       "\n",
       "    .dataframe thead th {\n",
       "        text-align: right;\n",
       "    }\n",
       "</style>\n",
       "<table border=\"1\" class=\"dataframe\">\n",
       "  <thead>\n",
       "    <tr style=\"text-align: right;\">\n",
       "      <th></th>\n",
       "      <th>Product Name</th>\n",
       "      <th>Brand Name</th>\n",
       "      <th>Selling Price</th>\n",
       "      <th>Primary Category</th>\n",
       "      <th>Universal Category</th>\n",
       "    </tr>\n",
       "  </thead>\n",
       "  <tbody>\n",
       "    <tr>\n",
       "      <th>2</th>\n",
       "      <td>3Doodler Create Flexy 3D Printing Filament Ref...</td>\n",
       "      <td>NaN</td>\n",
       "      <td>34.99</td>\n",
       "      <td>Toys &amp; Games</td>\n",
       "      <td>Toys</td>\n",
       "    </tr>\n",
       "    <tr>\n",
       "      <th>3</th>\n",
       "      <td>Guillow Airplane Design Studio with Travel Cas...</td>\n",
       "      <td>NaN</td>\n",
       "      <td>28.91</td>\n",
       "      <td>Toys &amp; Games</td>\n",
       "      <td>Toys</td>\n",
       "    </tr>\n",
       "    <tr>\n",
       "      <th>4</th>\n",
       "      <td>Woodstock- Collage 500 pc Puzzle</td>\n",
       "      <td>NaN</td>\n",
       "      <td>17.49</td>\n",
       "      <td>Toys &amp; Games</td>\n",
       "      <td>Toys</td>\n",
       "    </tr>\n",
       "    <tr>\n",
       "      <th>6</th>\n",
       "      <td>Rubie's Child's Pokemon Deluxe Pikachu Costume...</td>\n",
       "      <td>NaN</td>\n",
       "      <td>29.12</td>\n",
       "      <td>Clothing, Shoes &amp; Jewelry</td>\n",
       "      <td>Clothing, Shoes &amp; Jewelry</td>\n",
       "    </tr>\n",
       "    <tr>\n",
       "      <th>8</th>\n",
       "      <td>ARTSCAPE Etched Glass 24\" x 36\" Window Film, 2...</td>\n",
       "      <td>NaN</td>\n",
       "      <td>12.99</td>\n",
       "      <td>Home &amp; Kitchen</td>\n",
       "      <td>Health &amp; Household</td>\n",
       "    </tr>\n",
       "  </tbody>\n",
       "</table>\n",
       "</div>"
      ],
      "text/plain": [
       "                                        Product Name  Brand Name  \\\n",
       "2  3Doodler Create Flexy 3D Printing Filament Ref...         NaN   \n",
       "3  Guillow Airplane Design Studio with Travel Cas...         NaN   \n",
       "4                   Woodstock- Collage 500 pc Puzzle         NaN   \n",
       "6  Rubie's Child's Pokemon Deluxe Pikachu Costume...         NaN   \n",
       "8  ARTSCAPE Etched Glass 24\" x 36\" Window Film, 2...         NaN   \n",
       "\n",
       "   Selling Price           Primary Category         Universal Category  \n",
       "2          34.99               Toys & Games                       Toys  \n",
       "3          28.91               Toys & Games                       Toys  \n",
       "4          17.49               Toys & Games                       Toys  \n",
       "6          29.12  Clothing, Shoes & Jewelry  Clothing, Shoes & Jewelry  \n",
       "8          12.99             Home & Kitchen         Health & Household  "
      ]
     },
     "execution_count": 26,
     "metadata": {},
     "output_type": "execute_result"
    }
   ],
   "source": [
    "print(amazon.shape)\n",
    "amazon.head()"
   ]
  },
  {
   "cell_type": "code",
   "execution_count": 16,
   "id": "db6384cd",
   "metadata": {},
   "outputs": [],
   "source": [
    "#walmart = walmart.drop(columns=['Brand'])\n",
    "#amazon = amazon.drop(columns=['Brand Name'])"
   ]
  },
  {
   "cell_type": "markdown",
   "id": "919b26fa-ff14-4f52-bc03-d0e42360eb7e",
   "metadata": {},
   "source": [
    "<br></br>\n",
    "<br></br>\n",
    "<br></br>"
   ]
  },
  {
   "cell_type": "markdown",
   "id": "ff7138f1-a29a-4ef6-a4c0-0b450829d1da",
   "metadata": {},
   "source": [
    "# Regression"
   ]
  },
  {
   "cell_type": "code",
   "execution_count": 31,
   "id": "bf6e2fac-99e5-4418-8b72-723e7e3f0ee9",
   "metadata": {},
   "outputs": [],
   "source": [
    "# I wanted to edit the dataframes to match each other and also have the syntax work for the regression (I don't think it accepts spaces).\n",
    "amazon_reg = amazon.rename(columns={'Brand Name':'brand', 'Selling Price':'sale_price', 'Primary Category':'primary_category', 'Universal Category':'universal_category'})\n",
    "walmart_reg = walmart.rename(columns={'Brand':'brand', 'Sale Price':'sale_price', 'Primary Category':'primary_category', 'Universal Category':'universal_category'})\n",
    "\n",
    "# combine data frames and label by store\n",
    "amazon_reg['store'] = 'amazon'\n",
    "walmart_reg['store'] = 'walmart'\n",
    "\n",
    "df = pd.concat([amazon_reg, walmart_reg])[['brand', 'sale_price', 'primary_category', 'universal_category', 'store']]"
   ]
  },
  {
   "cell_type": "code",
   "execution_count": 34,
   "id": "134ddd0f",
   "metadata": {},
   "outputs": [
    {
     "data": {
      "text/plain": [
       "store\n",
       "walmart    19194\n",
       "amazon      7715\n",
       "Name: count, dtype: int64"
      ]
     },
     "execution_count": 34,
     "metadata": {},
     "output_type": "execute_result"
    }
   ],
   "source": [
    "df['store'].value_counts()"
   ]
  },
  {
   "cell_type": "code",
   "execution_count": 38,
   "id": "40b29c30",
   "metadata": {},
   "outputs": [
    {
     "data": {
      "text/html": [
       "<table class=\"simpletable\">\n",
       "<caption>OLS Regression Results</caption>\n",
       "<tr>\n",
       "  <th>Dep. Variable:</th>       <td>sale_price</td>    <th>  R-squared:         </th>  <td>   0.085</td>  \n",
       "</tr>\n",
       "<tr>\n",
       "  <th>Model:</th>                   <td>OLS</td>       <th>  Adj. R-squared:    </th>  <td>   0.084</td>  \n",
       "</tr>\n",
       "<tr>\n",
       "  <th>Method:</th>             <td>Least Squares</td>  <th>  F-statistic:       </th>  <td>   497.0</td>  \n",
       "</tr>\n",
       "<tr>\n",
       "  <th>Date:</th>             <td>Fri, 07 Jun 2024</td> <th>  Prob (F-statistic):</th>   <td>  0.00</td>   \n",
       "</tr>\n",
       "<tr>\n",
       "  <th>Time:</th>                 <td>20:25:45</td>     <th>  Log-Likelihood:    </th> <td>-1.2707e+05</td>\n",
       "</tr>\n",
       "<tr>\n",
       "  <th>No. Observations:</th>      <td> 26909</td>      <th>  AIC:               </th>  <td>2.542e+05</td> \n",
       "</tr>\n",
       "<tr>\n",
       "  <th>Df Residuals:</th>          <td> 26903</td>      <th>  BIC:               </th>  <td>2.542e+05</td> \n",
       "</tr>\n",
       "<tr>\n",
       "  <th>Df Model:</th>              <td>     5</td>      <th>                     </th>      <td> </td>     \n",
       "</tr>\n",
       "<tr>\n",
       "  <th>Covariance Type:</th>      <td>nonrobust</td>    <th>                     </th>      <td> </td>     \n",
       "</tr>\n",
       "</table>\n",
       "<table class=\"simpletable\">\n",
       "<tr>\n",
       "                         <td></td>                            <th>coef</th>     <th>std err</th>      <th>t</th>      <th>P>|t|</th>  <th>[0.025</th>    <th>0.975]</th>  \n",
       "</tr>\n",
       "<tr>\n",
       "  <th>Intercept</th>                                       <td>   20.2029</td> <td>    0.769</td> <td>   26.289</td> <td> 0.000</td> <td>   18.697</td> <td>   21.709</td>\n",
       "</tr>\n",
       "<tr>\n",
       "  <th>store[T.walmart]</th>                                <td>    3.2792</td> <td>    0.597</td> <td>    5.494</td> <td> 0.000</td> <td>    2.109</td> <td>    4.449</td>\n",
       "</tr>\n",
       "<tr>\n",
       "  <th>universal_category[T.Clothing, Shoes & Jewelry]</th> <td>    5.8062</td> <td>    1.055</td> <td>    5.501</td> <td> 0.000</td> <td>    3.737</td> <td>    7.875</td>\n",
       "</tr>\n",
       "<tr>\n",
       "  <th>universal_category[T.Health & Household]</th>        <td>   -1.9718</td> <td>    0.633</td> <td>   -3.116</td> <td> 0.002</td> <td>   -3.212</td> <td>   -0.731</td>\n",
       "</tr>\n",
       "<tr>\n",
       "  <th>universal_category[T.Sports & Outdoors]</th>         <td>   15.0875</td> <td>    0.599</td> <td>   25.177</td> <td> 0.000</td> <td>   13.913</td> <td>   16.262</td>\n",
       "</tr>\n",
       "<tr>\n",
       "  <th>universal_category[T.Toys]</th>                      <td>    0.1908</td> <td>    0.795</td> <td>    0.240</td> <td> 0.810</td> <td>   -1.368</td> <td>    1.749</td>\n",
       "</tr>\n",
       "</table>\n",
       "<table class=\"simpletable\">\n",
       "<tr>\n",
       "  <th>Omnibus:</th>       <td>13306.745</td> <th>  Durbin-Watson:     </th> <td>   1.987</td> \n",
       "</tr>\n",
       "<tr>\n",
       "  <th>Prob(Omnibus):</th>  <td> 0.000</td>   <th>  Jarque-Bera (JB):  </th> <td>91172.776</td>\n",
       "</tr>\n",
       "<tr>\n",
       "  <th>Skew:</th>           <td> 2.308</td>   <th>  Prob(JB):          </th> <td>    0.00</td> \n",
       "</tr>\n",
       "<tr>\n",
       "  <th>Kurtosis:</th>       <td>10.747</td>   <th>  Cond. No.          </th> <td>    12.2</td> \n",
       "</tr>\n",
       "</table><br/><br/>Notes:<br/>[1] Standard Errors assume that the covariance matrix of the errors is correctly specified."
      ],
      "text/plain": [
       "<class 'statsmodels.iolib.summary.Summary'>\n",
       "\"\"\"\n",
       "                            OLS Regression Results                            \n",
       "==============================================================================\n",
       "Dep. Variable:             sale_price   R-squared:                       0.085\n",
       "Model:                            OLS   Adj. R-squared:                  0.084\n",
       "Method:                 Least Squares   F-statistic:                     497.0\n",
       "Date:                Fri, 07 Jun 2024   Prob (F-statistic):               0.00\n",
       "Time:                        20:25:45   Log-Likelihood:            -1.2707e+05\n",
       "No. Observations:               26909   AIC:                         2.542e+05\n",
       "Df Residuals:                   26903   BIC:                         2.542e+05\n",
       "Df Model:                           5                                         \n",
       "Covariance Type:            nonrobust                                         \n",
       "===================================================================================================================\n",
       "                                                      coef    std err          t      P>|t|      [0.025      0.975]\n",
       "-------------------------------------------------------------------------------------------------------------------\n",
       "Intercept                                          20.2029      0.769     26.289      0.000      18.697      21.709\n",
       "store[T.walmart]                                    3.2792      0.597      5.494      0.000       2.109       4.449\n",
       "universal_category[T.Clothing, Shoes & Jewelry]     5.8062      1.055      5.501      0.000       3.737       7.875\n",
       "universal_category[T.Health & Household]           -1.9718      0.633     -3.116      0.002      -3.212      -0.731\n",
       "universal_category[T.Sports & Outdoors]            15.0875      0.599     25.177      0.000      13.913      16.262\n",
       "universal_category[T.Toys]                          0.1908      0.795      0.240      0.810      -1.368       1.749\n",
       "==============================================================================\n",
       "Omnibus:                    13306.745   Durbin-Watson:                   1.987\n",
       "Prob(Omnibus):                  0.000   Jarque-Bera (JB):            91172.776\n",
       "Skew:                           2.308   Prob(JB):                         0.00\n",
       "Kurtosis:                      10.747   Cond. No.                         12.2\n",
       "==============================================================================\n",
       "\n",
       "Notes:\n",
       "[1] Standard Errors assume that the covariance matrix of the errors is correctly specified.\n",
       "\"\"\""
      ]
     },
     "execution_count": 38,
     "metadata": {},
     "output_type": "execute_result"
    }
   ],
   "source": [
    "response = 'sale_price'\n",
    "model_formula = f\"{response} ~ {' + '.join(['store', 'universal_category'])}\"\n",
    "model = smf.ols(model_formula, df).fit()\n",
    "model.summary()"
   ]
  },
  {
   "cell_type": "markdown",
   "id": "ccf37ef4",
   "metadata": {},
   "source": [
    "#### Interpretation of the coefficients\n",
    "\n",
    "---\n",
    "We see that all coefficients are significant at the $\\alpha=0.05$ level aside from the Toys category. The reference category used in the case of the store and universal_category covariates is 'amazon' and 'baby'.\n",
    "\n",
    "- store[T.walmart]: **Holding all else constant, a change from the reference category, 'amazon', to 'walmart' is predicted to increase the sales price by 3.2792 dollars**\n",
    "- universal_category[T.Clothing, Shoes & Jewelry]: Holding all else constant, a change from the reference category, 'baby', to 'clothing, shoes & jewelry' is predicted to increase the sales price by 5.8062 dollars\n",
    "- universal_category[T.Health & Household]: Holding all else constant, a change from the reference category, 'baby', to 'health & household' is predicted to decrease the sales price by 1.9718 dollars\n",
    "- universal_category[T.Sports & Outdoors]: Holding all else constant, a change from the reference category, 'baby', to 'sports & outdoors' is predicted to increase the sales price by 0.1908 dollars"
   ]
  },
  {
   "cell_type": "markdown",
   "id": "27194e32",
   "metadata": {},
   "source": [
    "Let's perform an ANOVA test to see whether or not the inclusion of the 'store' variable signficantly improve the predictions output by this regression model."
   ]
  },
  {
   "cell_type": "code",
   "execution_count": 76,
   "id": "0fad9fe2",
   "metadata": {},
   "outputs": [],
   "source": [
    "small_formula = f\"{response} ~ universal_category\"\n",
    "big_formula = f\"{response} ~ {' + '.join(['store', 'universal_category'])}\""
   ]
  },
  {
   "cell_type": "code",
   "execution_count": 79,
   "id": "87e7796e",
   "metadata": {},
   "outputs": [
    {
     "name": "stdout",
     "output_type": "stream",
     "text": [
      "   df_resid           ssr  df_diff       ss_diff          F        Pr(>F)\n",
      "0   26904.0  1.993811e+07      0.0           NaN        NaN           NaN\n",
      "1   26903.0  1.991577e+07      1.0  22341.670476  30.179998  3.973135e-08\n"
     ]
    },
    {
     "name": "stderr",
     "output_type": "stream",
     "text": [
      "C:\\Users\\User\\AppData\\Local\\Programs\\Python\\Python310\\lib\\site-packages\\statsmodels\\stats\\anova.py:374: FutureWarning: ChainedAssignmentError: behaviour will change in pandas 3.0!\n",
      "You are setting values through chained assignment. Currently this works in certain cases, but when using Copy-on-Write (which will become the default behaviour in pandas 3.0) this will never work to update the original DataFrame or Series, because the intermediate object on which we are setting values will behave as a copy.\n",
      "A typical example is when you are setting values in a column of a DataFrame, like:\n",
      "\n",
      "df[\"col\"][row_indexer] = value\n",
      "\n",
      "Use `df.loc[row_indexer, \"col\"] = values` instead, to perform the assignment in a single step and ensure this keeps updating the original `df`.\n",
      "\n",
      "See the caveats in the documentation: https://pandas.pydata.org/pandas-docs/stable/user_guide/indexing.html#returning-a-view-versus-a-copy\n",
      "\n",
      "  table[pr_test][table['F'].isnull()] = np.nan\n"
     ]
    }
   ],
   "source": [
    "small_model = smf.ols(small_formula, data=df).fit()\n",
    "big_model = smf.ols(big_formula, data=df).fit()\n",
    "\n",
    "anova_table = sm.stats.anova_lm(small_model, big_model)\n",
    "print(anova_table)"
   ]
  },
  {
   "cell_type": "code",
   "execution_count": 78,
   "id": "0db335b8",
   "metadata": {},
   "outputs": [
    {
     "data": {
      "text/plain": [
       "3.973134899935296e-08"
      ]
     },
     "execution_count": 78,
     "metadata": {},
     "output_type": "execute_result"
    }
   ],
   "source": [
    "anova_table['Pr(>F)'].values[1]"
   ]
  },
  {
   "cell_type": "markdown",
   "id": "169dec8e",
   "metadata": {},
   "source": [
    "Based on the fact that this p-value is less than $\\alpha = 0.01$, we can conclude that the covariate 'store' in the big model significantly improves the model fit compared to just the small model ('universal category' alone). This suggests that the two stores 'Amazon' and 'Walmart' do in fact demonstrate differences pricing, implying one may be favorable to shop at over the other for certain categories of items."
   ]
  },
  {
   "cell_type": "code",
   "execution_count": null,
   "id": "f1d2a7f0",
   "metadata": {},
   "outputs": [],
   "source": []
  },
  {
   "cell_type": "markdown",
   "id": "4463b537-974a-430e-987a-268326683a43",
   "metadata": {},
   "source": [
    "### Checking the assumptions"
   ]
  },
  {
   "cell_type": "code",
   "execution_count": 41,
   "id": "fbb48f41-7327-481c-93e1-f3a5e44c46f6",
   "metadata": {},
   "outputs": [],
   "source": [
    "residuals = model.resid"
   ]
  },
  {
   "cell_type": "code",
   "execution_count": 42,
   "id": "3e44baf2-26ae-4cb0-bb64-36e9c5387bfc",
   "metadata": {},
   "outputs": [],
   "source": [
    "def standardize(X):\n",
    "    return (X - X.mean()) / X.std()"
   ]
  },
  {
   "cell_type": "code",
   "execution_count": 59,
   "id": "0b94b987-75c6-4103-b8fa-917aa98cda36",
   "metadata": {},
   "outputs": [
    {
     "data": {
      "image/png": "[encoded data removed]",
      "text/plain": [
       "<Figure size 504x360 with 1 Axes>"
      ]
     },
     "metadata": {},
     "output_type": "display_data"
    },
    {
     "data": {
      "image/png": "[encoded data removed]",
      "text/plain": [
       "<Figure size 504x360 with 1 Axes>"
      ]
     },
     "metadata": {},
     "output_type": "display_data"
    }
   ],
   "source": [
    "\n",
    "plt.figure(figsize=(7,5))\n",
    "sns.scatterplot(x=df['universal_category'], y=standardize(residuals))\n",
    "plt.xlabel(f'Independent Variable: universal_category')\n",
    "plt.ylabel('Standardized residuals')\n",
    "plt.axhline(0, color='black', linestyle='--', alpha=0.5)\n",
    "plt.show()\n",
    "\n",
    "plt.figure(figsize=(7,5))\n",
    "sns.scatterplot(x=df['store'], y=standardize(residuals))\n",
    "plt.xlabel(f'Independent Variable: store')\n",
    "plt.ylabel('Standardized residuals')\n",
    "plt.axhline(0, color='black', linestyle='--', alpha=0.5)\n",
    "\n",
    "plt.tight_layout()"
   ]
  },
  {
   "cell_type": "markdown",
   "id": "73e7dd77-e523-48d1-8186-8baa583287a1",
   "metadata": {},
   "source": [
    "**Linearity**: The relationship between the independent variables and the response appears somewhat linear but not completely, since the residuals are mostly clustered around the line $y = 0$ as the independent variable changes, but there is some bias in the residuals where the positive residuals tend to be further from $y=0$ than the negative residuals. Based off of the plots above, it is difficult to say if this should satisfy the linearity assumption, but I think it can pass the linearity assumption."
   ]
  },
  {
   "cell_type": "code",
   "execution_count": 60,
   "id": "eed56199-ef0d-4eb1-aa12-375250a944b8",
   "metadata": {},
   "outputs": [
    {
     "data": {
      "image/png": "[encoded data removed]",
      "text/plain": [
       "<Figure size 504x360 with 1 Axes>"
      ]
     },
     "metadata": {},
     "output_type": "display_data"
    }
   ],
   "source": [
    "plt.figure(figsize=(7,5))\n",
    "\n",
    "sns.scatterplot(x=model.fittedvalues, y=standardize(residuals))\n",
    "plt.xlabel('Selling Price')\n",
    "plt.ylabel('Standardized residuals');"
   ]
  },
  {
   "cell_type": "markdown",
   "id": "a5d7311d-b6d9-4f7d-81a3-dcddd94ad5e5",
   "metadata": {},
   "source": [
    "**Identical errors / homoscedasticity:** The plot of the residuals against the response variable $y$ shows a pretty random pattern clustered around $y=0$, but there is some bias in the residuals where the positive residuals tend to be further from $y=0$ than the negative residuals. There is also some degree of visible fanning out as price increases. Overall, these are look like potentially significant enough effects to violate the identical errors assumption.\n",
    "\n",
    "In the plot of the residuals against the independent variable \"Universal Category\", there is potential heteroscedasticity in both datasets since in the \"Sports $\\&$ Outdoors\" and \"Toys\" categories of the walmart dataset, there is some visual indication of increased variance. The same is true in the \"Health $\\&$ Household\" and \"Sports $\\&$ Outdoors\" categories of the amazon dataset. This might also violate the identical errors assumption.\n",
    "\n",
    "- $\\text{Var}(\\epsilon_i) = \\sigma^2 \\quad \\forall i$."
   ]
  },
  {
   "cell_type": "code",
   "execution_count": 69,
   "id": "7ef578c2-2339-43ec-b45f-01b0a14c8e63",
   "metadata": {},
   "outputs": [
    {
     "data": {
      "image/png": "[encoded data removed]",
      "text/plain": [
       "<Figure size 432x288 with 1 Axes>"
      ]
     },
     "execution_count": 69,
     "metadata": {},
     "output_type": "execute_result"
    },
    {
     "data": {
      "image/png": "[encoded data removed]",
      "text/plain": [
       "<Figure size 432x288 with 1 Axes>"
      ]
     },
     "metadata": {},
     "output_type": "display_data"
    },
    {
     "data": {
      "image/png": "[encoded data removed]",
      "text/plain": [
       "<Figure size 432x288 with 1 Axes>"
      ]
     },
     "metadata": {},
     "output_type": "display_data"
    }
   ],
   "source": [
    "#fig, axs = plt.subplots(2, 1, figsize=(8, 8))\n",
    "\n",
    "sns.histplot(standardize(residuals), bins=40)\n",
    "sm.qqplot(standardize(residuals), line='45')"
   ]
  },
  {
   "cell_type": "code",
   "execution_count": 70,
   "id": "e60b9737-9953-43a4-95da-2b35667796c5",
   "metadata": {},
   "outputs": [
    {
     "name": "stdout",
     "output_type": "stream",
     "text": [
      "Normality p-value:0.0\n"
     ]
    },
    {
     "name": "stderr",
     "output_type": "stream",
     "text": [
      "C:\\Users\\User\\AppData\\Local\\Programs\\Python\\Python310\\lib\\site-packages\\scipy\\stats\\_morestats.py:1882: UserWarning: p-value may not be accurate for N > 5000.\n",
      "  warnings.warn(\"p-value may not be accurate for N > 5000.\")\n"
     ]
    }
   ],
   "source": [
    "shapiro = stats.shapiro(standardize(residuals))\n",
    "print(f'Normality p-value:{shapiro.pvalue}')\n"
   ]
  },
  {
   "cell_type": "markdown",
   "id": "7262bfa1-7260-4ed1-acdc-1c3c4f429b43",
   "metadata": {},
   "source": [
    "**Normality**: Visually, it it does not look like the normality assumption is met. Using the Shapiro-Wilk test to obtain a more quantitative result to base a decision off of, we get an extremely low p-value for both datasets ($\\approx 1.07 \\times 10^{-86}$ for walmart, and $\\approx 1.07 \\times 10^{-69}$ for amazon) that would satisfy being below any reasonable value of $\\alpha$ for which we would base the hypothesis test. \n",
    "\n",
    "$$\n",
    "\\color{red}{\\text{Try np.log(response) in regression models}}\n",
    "$$"
   ]
  },
  {
   "cell_type": "code",
   "execution_count": 72,
   "id": "0f2f7abd-be16-4c52-b586-0429c41e27ba",
   "metadata": {},
   "outputs": [
    {
     "data": {
      "text/plain": [
       "Text(0, 0.5, 'ACF')"
      ]
     },
     "execution_count": 72,
     "metadata": {},
     "output_type": "execute_result"
    },
    {
     "data": {
      "image/png": "[encoded data removed]",
      "text/plain": [
       "<Figure size 432x288 with 1 Axes>"
      ]
     },
     "metadata": {},
     "output_type": "display_data"
    }
   ],
   "source": [
    "lags = 20\n",
    "\n",
    "plt.bar(range(lags+1), acf(residuals, nlags=lags))\n",
    "plt.xlabel('lag'); plt.ylabel('ACF')\n"
   ]
  },
  {
   "cell_type": "markdown",
   "id": "9f522532-db9f-4e8d-9483-53c86e51761d",
   "metadata": {},
   "source": [
    "**Independence:** The ACF is is very close to $0$ even at one lag, indicating that the independence of the residuals assumption is satisfied for both datasets.\n",
    " \n",
    "- $\\epsilon_1, \\epsilon_2, \\dots, \\epsilon_n \\quad$ are dependent, because $y_{i+k}$ with lag $k$ is not influenced by the value of $y_i, \\forall k \\leq 20$."
   ]
  },
  {
   "cell_type": "markdown",
   "id": "a5402110-e901-480a-85a8-c398f0cf9c39",
   "metadata": {},
   "source": [
    "\n",
    "**Completeness:** There may be variables which influence the response $y$ are not included in the covariates. There is no way to know if this is the case, but we are considring a lot of covariates which provide insight into this, so we will assume completeness."
   ]
  }
 ],
 "metadata": {
  "kernelspec": {
   "display_name": "Python 3 (ipykernel)",
   "language": "python",
   "name": "python3"
  },
  "language_info": {
   "codemirror_mode": {
    "name": "ipython",
    "version": 3
   },
   "file_extension": ".py",
   "mimetype": "text/x-python",
   "name": "python",
   "nbconvert_exporter": "python",
   "pygments_lexer": "ipython3",
   "version": "3.10.1"
  }
 },
 "nbformat": 4,
 "nbformat_minor": 5
}
